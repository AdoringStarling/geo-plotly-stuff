{
 "cells": [
  {
   "cell_type": "code",
   "execution_count": 1,
   "metadata": {},
   "outputs": [],
   "source": [
    "import pandas as pd\n",
    "import plotly.graph_objects as go\n",
    "import numpy as np\n",
    "import skimage.io as sio\n",
    "import math\n",
    "import shapely\n",
    "from shapely.geometry import Point\n",
    "from shapely.geometry.polygon import Polygon\n",
    "from shapely.geometry import LineString\n",
    "import matplotlib.pyplot as plt\n",
    "import matplotlib"
   ]
  },
  {
   "cell_type": "code",
   "execution_count": 144,
   "metadata": {},
   "outputs": [],
   "source": [
    "#Variables para cambiar!!!!\n",
    "x0=-73.2\n",
    "x1=-74.4\n",
    "y0=6.8\n",
    "y1=7.6\n",
    "nam,z0,z1='Perfil',0,40\n",
    "#Variables para cambiar!!!!\n",
    "data=pd.read_csv('arreglos_3d.csv')\n",
    "max_val=data['value'].max()\n",
    "min_val=data['value'].min()\n",
    "ls=[]\n",
    "d=[]\n",
    "for x,y in zip(data.x,data.y):\n",
    "    c = Point(x, y).buffer(0.05)\n",
    "    l = LineString([(x0,y0), (x1, y1)])\n",
    "    i = c.intersection(l)\n",
    "    if i:\n",
    "        ls.append(True)\n",
    "        d.append(np.sqrt(((x0-x)**2)+(y0-y)**2))\n",
    "    else:\n",
    "        ls.append(False)\n",
    "        d.append(np.sqrt(((x0-x)**2)+(y0-y)**2))\n",
    "data['d']=d\n",
    "data1=data[ls]\n",
    "\n",
    "mesh_geo=data1.pivot(index='z', columns='d',values='value')\n",
    "image = mesh_geo.values\n",
    "# Part extracted from https://stackoverflow.com/questions/43442925/color-coding-using-scalar-mappable-in-matplotlib\n",
    "cmap= plt.cm.bone_r\n",
    "norm = matplotlib.colors.Normalize(vmin=min_val, vmax=max_val) \n",
    "sm = matplotlib.cm.ScalarMappable(cmap=cmap, norm=norm)   \n",
    "facecolors=cmap(norm(image))\n",
    "# End of the estrcation\n",
    "\n",
    "\n",
    "#Ojo!!!\n",
    "image = facecolors\n",
    "zs,xys,_=image.shape\n",
    "zs,xys=int(zs),int(xys)\n",
    "yy = np.linspace(y0,y1, xys)\n",
    "zz = np.linspace(z1,z0, zs)\n",
    "yy, zz = np.meshgrid(yy, zz)\n",
    "x_data=list(np.linspace(x0,x1, xys))\n",
    "x_data=[x_data]*zs\n",
    "xx=np.concatenate(x_data).reshape(yy.shape)\n",
    "img = image[:,:, 1]\n",
    "ima_surface=go.Surface(name=str(nam),hovertemplate=str(nam),x=xx, y=yy, z=zz, surfacecolor= np.flipud(img), colorscale='jet', showscale=False)"
   ]
  },
  {
   "cell_type": "code",
   "execution_count": 118,
   "metadata": {},
   "outputs": [
    {
     "data": {
      "text/plain": [
       "[<matplotlib.lines.Line2D at 0x2140ac7a0e0>]"
      ]
     },
     "execution_count": 118,
     "metadata": {},
     "output_type": "execute_result"
    },
    {
     "data": {
      "image/png": "[encoded data removed]",
      "text/plain": [
       "<Figure size 640x480 with 1 Axes>"
      ]
     },
     "metadata": {},
     "output_type": "display_data"
    }
   ],
   "source": [
    "plt.plot(data.x,data.y,'.')"
   ]
  },
  {
   "cell_type": "code",
   "execution_count": 147,
   "metadata": {},
   "outputs": [
    {
     "data": {
      "text/plain": [
       "[<matplotlib.lines.Line2D at 0x214019c08b0>]"
      ]
     },
     "execution_count": 147,
     "metadata": {},
     "output_type": "execute_result"
    },
    {
     "data": {
      "image/png": "[encoded data removed]",
      "text/plain": [
       "<Figure size 640x480 with 1 Axes>"
      ]
     },
     "metadata": {},
     "output_type": "display_data"
    }
   ],
   "source": [
    "plt.plot(data1.x,data1.y,'.')"
   ]
  },
  {
   "cell_type": "code",
   "execution_count": 148,
   "metadata": {},
   "outputs": [
    {
     "data": {
      "text/html": [
       "<div>\n",
       "<style scoped>\n",
       "    .dataframe tbody tr th:only-of-type {\n",
       "        vertical-align: middle;\n",
       "    }\n",
       "\n",
       "    .dataframe tbody tr th {\n",
       "        vertical-align: top;\n",
       "    }\n",
       "\n",
       "    .dataframe thead th {\n",
       "        text-align: right;\n",
       "    }\n",
       "</style>\n",
       "<table border=\"1\" class=\"dataframe\">\n",
       "  <thead>\n",
       "    <tr style=\"text-align: right;\">\n",
       "      <th>d</th>\n",
       "      <th>0.031509</th>\n",
       "      <th>0.144142</th>\n",
       "      <th>0.224636</th>\n",
       "      <th>0.270125</th>\n",
       "      <th>0.344754</th>\n",
       "      <th>0.468674</th>\n",
       "      <th>0.545848</th>\n",
       "      <th>0.594022</th>\n",
       "      <th>0.668850</th>\n",
       "      <th>0.793206</th>\n",
       "      <th>0.869529</th>\n",
       "      <th>0.918368</th>\n",
       "      <th>0.993230</th>\n",
       "      <th>1.117738</th>\n",
       "      <th>1.193672</th>\n",
       "      <th>1.242811</th>\n",
       "      <th>1.317685</th>\n",
       "      <th>1.442270</th>\n",
       "    </tr>\n",
       "    <tr>\n",
       "      <th>z</th>\n",
       "      <th></th>\n",
       "      <th></th>\n",
       "      <th></th>\n",
       "      <th></th>\n",
       "      <th></th>\n",
       "      <th></th>\n",
       "      <th></th>\n",
       "      <th></th>\n",
       "      <th></th>\n",
       "      <th></th>\n",
       "      <th></th>\n",
       "      <th></th>\n",
       "      <th></th>\n",
       "      <th></th>\n",
       "      <th></th>\n",
       "      <th></th>\n",
       "      <th></th>\n",
       "      <th></th>\n",
       "    </tr>\n",
       "  </thead>\n",
       "  <tbody>\n",
       "    <tr>\n",
       "      <th>0.0</th>\n",
       "      <td>0.003772</td>\n",
       "      <td>0.003702</td>\n",
       "      <td>0.003682</td>\n",
       "      <td>0.003690</td>\n",
       "      <td>0.003696</td>\n",
       "      <td>0.003650</td>\n",
       "      <td>0.003644</td>\n",
       "      <td>0.003724</td>\n",
       "      <td>0.003734</td>\n",
       "      <td>0.003735</td>\n",
       "      <td>0.003708</td>\n",
       "      <td>0.003646</td>\n",
       "      <td>0.003615</td>\n",
       "      <td>0.003607</td>\n",
       "      <td>0.003558</td>\n",
       "      <td>0.003562</td>\n",
       "      <td>0.003559</td>\n",
       "      <td>0.003567</td>\n",
       "    </tr>\n",
       "    <tr>\n",
       "      <th>10.0</th>\n",
       "      <td>0.003768</td>\n",
       "      <td>0.003688</td>\n",
       "      <td>0.003708</td>\n",
       "      <td>0.003702</td>\n",
       "      <td>0.003709</td>\n",
       "      <td>0.003664</td>\n",
       "      <td>0.003675</td>\n",
       "      <td>0.003724</td>\n",
       "      <td>0.003719</td>\n",
       "      <td>0.003745</td>\n",
       "      <td>0.003731</td>\n",
       "      <td>0.003662</td>\n",
       "      <td>0.003631</td>\n",
       "      <td>0.003614</td>\n",
       "      <td>0.003565</td>\n",
       "      <td>0.003571</td>\n",
       "      <td>0.003556</td>\n",
       "      <td>0.003565</td>\n",
       "    </tr>\n",
       "    <tr>\n",
       "      <th>20.0</th>\n",
       "      <td>0.003774</td>\n",
       "      <td>0.003689</td>\n",
       "      <td>0.003688</td>\n",
       "      <td>0.003717</td>\n",
       "      <td>0.003687</td>\n",
       "      <td>0.003690</td>\n",
       "      <td>0.003688</td>\n",
       "      <td>0.003725</td>\n",
       "      <td>0.003744</td>\n",
       "      <td>0.003748</td>\n",
       "      <td>0.003733</td>\n",
       "      <td>0.003674</td>\n",
       "      <td>0.003633</td>\n",
       "      <td>0.003631</td>\n",
       "      <td>0.003592</td>\n",
       "      <td>0.003607</td>\n",
       "      <td>0.003567</td>\n",
       "      <td>0.003579</td>\n",
       "    </tr>\n",
       "    <tr>\n",
       "      <th>30.0</th>\n",
       "      <td>0.003798</td>\n",
       "      <td>0.003711</td>\n",
       "      <td>0.003702</td>\n",
       "      <td>0.003745</td>\n",
       "      <td>0.003715</td>\n",
       "      <td>0.003688</td>\n",
       "      <td>0.003682</td>\n",
       "      <td>0.003751</td>\n",
       "      <td>0.003761</td>\n",
       "      <td>0.003756</td>\n",
       "      <td>0.003741</td>\n",
       "      <td>0.003684</td>\n",
       "      <td>0.003649</td>\n",
       "      <td>0.003644</td>\n",
       "      <td>0.003585</td>\n",
       "      <td>0.003599</td>\n",
       "      <td>0.003628</td>\n",
       "      <td>0.003612</td>\n",
       "    </tr>\n",
       "    <tr>\n",
       "      <th>40.0</th>\n",
       "      <td>0.003851</td>\n",
       "      <td>0.003736</td>\n",
       "      <td>0.003691</td>\n",
       "      <td>0.003708</td>\n",
       "      <td>0.003700</td>\n",
       "      <td>0.003692</td>\n",
       "      <td>0.003694</td>\n",
       "      <td>0.003747</td>\n",
       "      <td>0.003780</td>\n",
       "      <td>0.003775</td>\n",
       "      <td>0.003729</td>\n",
       "      <td>0.003682</td>\n",
       "      <td>0.003665</td>\n",
       "      <td>0.003640</td>\n",
       "      <td>0.003657</td>\n",
       "      <td>0.003648</td>\n",
       "      <td>0.003636</td>\n",
       "      <td>0.003598</td>\n",
       "    </tr>\n",
       "  </tbody>\n",
       "</table>\n",
       "</div>"
      ],
      "text/plain": [
       "d     0.031509  0.144142  0.224636  0.270125  0.344754  0.468674  0.545848  \\\n",
       "z                                                                            \n",
       "0.0   0.003772  0.003702  0.003682  0.003690  0.003696  0.003650  0.003644   \n",
       "10.0  0.003768  0.003688  0.003708  0.003702  0.003709  0.003664  0.003675   \n",
       "20.0  0.003774  0.003689  0.003688  0.003717  0.003687  0.003690  0.003688   \n",
       "30.0  0.003798  0.003711  0.003702  0.003745  0.003715  0.003688  0.003682   \n",
       "40.0  0.003851  0.003736  0.003691  0.003708  0.003700  0.003692  0.003694   \n",
       "\n",
       "d     0.594022  0.668850  0.793206  0.869529  0.918368  0.993230  1.117738  \\\n",
       "z                                                                            \n",
       "0.0   0.003724  0.003734  0.003735  0.003708  0.003646  0.003615  0.003607   \n",
       "10.0  0.003724  0.003719  0.003745  0.003731  0.003662  0.003631  0.003614   \n",
       "20.0  0.003725  0.003744  0.003748  0.003733  0.003674  0.003633  0.003631   \n",
       "30.0  0.003751  0.003761  0.003756  0.003741  0.003684  0.003649  0.003644   \n",
       "40.0  0.003747  0.003780  0.003775  0.003729  0.003682  0.003665  0.003640   \n",
       "\n",
       "d     1.193672  1.242811  1.317685  1.442270  \n",
       "z                                             \n",
       "0.0   0.003558  0.003562  0.003559  0.003567  \n",
       "10.0  0.003565  0.003571  0.003556  0.003565  \n",
       "20.0  0.003592  0.003607  0.003567  0.003579  \n",
       "30.0  0.003585  0.003599  0.003628  0.003612  \n",
       "40.0  0.003657  0.003648  0.003636  0.003598  "
      ]
     },
     "execution_count": 148,
     "metadata": {},
     "output_type": "execute_result"
    }
   ],
   "source": [
    "mesh_geo"
   ]
  },
  {
   "cell_type": "code",
   "execution_count": 145,
   "metadata": {},
   "outputs": [
    {
     "data": {
      "application/vnd.plotly.v1+json": {
       "config": {
        "plotlyServerURL": "https://plot.ly"
       },
       "data": [
        {
         "colorscale": [
          [
           0,
           "rgb(0,0,131)"
          ],
          [
           0.2,
           "rgb(0,60,170)"
          ],
          [
           0.4,
           "rgb(5,255,255)"
          ],
          [
           0.6,
           "rgb(255,255,0)"
          ],
          [
           0.8,
           "rgb(250,0,0)"
          ],
          [
           1,
           "rgb(128,0,0)"
          ]
         ],
         "hovertemplate": "Perfil",
         "name": "Perfil",
         "showscale": false,
         "surfacecolor": [
          [
           0.2779410677108888,
           0.5501837789904915,
           0.6634190538066993,
           0.6209558257506215,
           0.6398283715533227,
           0.6587009173560241,
           0.6587009173560241,
           0.5218749602864396,
           0.4416666406249591,
           0.4511029135263097,
           0.5643381883425175,
           0.687009736060076,
           0.7294729641161538,
           0.7872549019607843,
           0.7483455099188552,
           0.7719361921722319,
           0.7941176470588235,
           0.8627450980392156
          ],
          [
           0.39448527611820583,
           0.6115195528492707,
           0.6351102351026474,
           0.5265930967371149,
           0.6020832799479201,
           0.6681371902573746,
           0.687009736060076,
           0.5124386873850889,
           0.4888480051317123,
           0.49828427803306297,
           0.5407475060891409,
           0.6822915996094006,
           0.7672180557215564,
           0.780392156862745,
           0.8867647058823529,
           0.8627450980392156,
           0.8112745098039216,
           0.8387254901960783
          ],
          [
           0.455821049976985,
           0.6681371902573746,
           0.6681371902573746,
           0.5973651434972448,
           0.6728553267080499,
           0.6681371902573746,
           0.6728553267080499,
           0.5784925976945434,
           0.5265930967371149,
           0.5218749602864396,
           0.5549019154411668,
           0.7058822818627772,
           0.8009803921568627,
           0.8044117647058824,
           0.8730392156862745,
           0.8455882352941176,
           0.921078431372549,
           0.9004901960784314
          ],
          [
           0.469975459329011,
           0.6681371902573746,
           0.6209558257506215,
           0.6351102351026474,
           0.616237689299946,
           0.7294729641161538,
           0.7011641454121019,
           0.5784925976945434,
           0.5926470070465695,
           0.5265930967371149,
           0.5643381883425175,
           0.7389092370175045,
           0.8044117647058824,
           0.8352941176470587,
           0.9245098039215686,
           0.9142156862745098,
           0.9416666666666667,
           0.9245098039215686
          ],
          [
           0.4605391864276605,
           0.6351102351026474,
           0.687009736060076,
           0.6681371902573746,
           0.6492646444546734,
           0.7672180557215564,
           0.780392156862745,
           0.5784925976945434,
           0.5549019154411668,
           0.5549019154411668,
           0.6209558257506215,
           0.7766543286229071,
           0.8318627450980391,
           0.8490196078431372,
           0.9348039215686275,
           0.9313725490196079,
           0.9348039215686275,
           0.921078431372549
          ]
         ],
         "type": "surface",
         "x": [
          [
           -73.2,
           -73.27058823529413,
           -73.34117647058824,
           -73.41176470588236,
           -73.48235294117647,
           -73.5529411764706,
           -73.62352941176471,
           -73.69411764705883,
           -73.76470588235294,
           -73.83529411764707,
           -73.90588235294118,
           -73.9764705882353,
           -74.04705882352941,
           -74.11764705882354,
           -74.18823529411765,
           -74.25882352941177,
           -74.32941176470588,
           -74.4
          ],
          [
           -73.2,
           -73.27058823529413,
           -73.34117647058824,
           -73.41176470588236,
           -73.48235294117647,
           -73.5529411764706,
           -73.62352941176471,
           -73.69411764705883,
           -73.76470588235294,
           -73.83529411764707,
           -73.90588235294118,
           -73.9764705882353,
           -74.04705882352941,
           -74.11764705882354,
           -74.18823529411765,
           -74.25882352941177,
           -74.32941176470588,
           -74.4
          ],
          [
           -73.2,
           -73.27058823529413,
           -73.34117647058824,
           -73.41176470588236,
           -73.48235294117647,
           -73.5529411764706,
           -73.62352941176471,
           -73.69411764705883,
           -73.76470588235294,
           -73.83529411764707,
           -73.90588235294118,
           -73.9764705882353,
           -74.04705882352941,
           -74.11764705882354,
           -74.18823529411765,
           -74.25882352941177,
           -74.32941176470588,
           -74.4
          ],
          [
           -73.2,
           -73.27058823529413,
           -73.34117647058824,
           -73.41176470588236,
           -73.48235294117647,
           -73.5529411764706,
           -73.62352941176471,
           -73.69411764705883,
           -73.76470588235294,
           -73.83529411764707,
           -73.90588235294118,
           -73.9764705882353,
           -74.04705882352941,
           -74.11764705882354,
           -74.18823529411765,
           -74.25882352941177,
           -74.32941176470588,
           -74.4
          ],
          [
           -73.2,
           -73.27058823529413,
           -73.34117647058824,
           -73.41176470588236,
           -73.48235294117647,
           -73.5529411764706,
           -73.62352941176471,
           -73.69411764705883,
           -73.76470588235294,
           -73.83529411764707,
           -73.90588235294118,
           -73.9764705882353,
           -74.04705882352941,
           -74.11764705882354,
           -74.18823529411765,
           -74.25882352941177,
           -74.32941176470588,
           -74.4
          ]
         ],
         "y": [
          [
           6.8,
           6.847058823529411,
           6.894117647058823,
           6.9411764705882355,
           6.988235294117647,
           7.035294117647059,
           7.08235294117647,
           7.129411764705882,
           7.1764705882352935,
           7.223529411764706,
           7.270588235294118,
           7.317647058823529,
           7.364705882352941,
           7.411764705882352,
           7.458823529411765,
           7.5058823529411764,
           7.552941176470588,
           7.6
          ],
          [
           6.8,
           6.847058823529411,
           6.894117647058823,
           6.9411764705882355,
           6.988235294117647,
           7.035294117647059,
           7.08235294117647,
           7.129411764705882,
           7.1764705882352935,
           7.223529411764706,
           7.270588235294118,
           7.317647058823529,
           7.364705882352941,
           7.411764705882352,
           7.458823529411765,
           7.5058823529411764,
           7.552941176470588,
           7.6
          ],
          [
           6.8,
           6.847058823529411,
           6.894117647058823,
           6.9411764705882355,
           6.988235294117647,
           7.035294117647059,
           7.08235294117647,
           7.129411764705882,
           7.1764705882352935,
           7.223529411764706,
           7.270588235294118,
           7.317647058823529,
           7.364705882352941,
           7.411764705882352,
           7.458823529411765,
           7.5058823529411764,
           7.552941176470588,
           7.6
          ],
          [
           6.8,
           6.847058823529411,
           6.894117647058823,
           6.9411764705882355,
           6.988235294117647,
           7.035294117647059,
           7.08235294117647,
           7.129411764705882,
           7.1764705882352935,
           7.223529411764706,
           7.270588235294118,
           7.317647058823529,
           7.364705882352941,
           7.411764705882352,
           7.458823529411765,
           7.5058823529411764,
           7.552941176470588,
           7.6
          ],
          [
           6.8,
           6.847058823529411,
           6.894117647058823,
           6.9411764705882355,
           6.988235294117647,
           7.035294117647059,
           7.08235294117647,
           7.129411764705882,
           7.1764705882352935,
           7.223529411764706,
           7.270588235294118,
           7.317647058823529,
           7.364705882352941,
           7.411764705882352,
           7.458823529411765,
           7.5058823529411764,
           7.552941176470588,
           7.6
          ]
         ],
         "z": [
          [
           40,
           40,
           40,
           40,
           40,
           40,
           40,
           40,
           40,
           40,
           40,
           40,
           40,
           40,
           40,
           40,
           40,
           40
          ],
          [
           30,
           30,
           30,
           30,
           30,
           30,
           30,
           30,
           30,
           30,
           30,
           30,
           30,
           30,
           30,
           30,
           30,
           30
          ],
          [
           20,
           20,
           20,
           20,
           20,
           20,
           20,
           20,
           20,
           20,
           20,
           20,
           20,
           20,
           20,
           20,
           20,
           20
          ],
          [
           10,
           10,
           10,
           10,
           10,
           10,
           10,
           10,
           10,
           10,
           10,
           10,
           10,
           10,
           10,
           10,
           10,
           10
          ],
          [
           0,
           0,
           0,
           0,
           0,
           0,
           0,
           0,
           0,
           0,
           0,
           0,
           0,
           0,
           0,
           0,
           0,
           0
          ]
         ]
        }
       ],
       "layout": {
        "template": {
         "data": {
          "bar": [
           {
            "error_x": {
             "color": "#2a3f5f"
            },
            "error_y": {
             "color": "#2a3f5f"
            },
            "marker": {
             "line": {
              "color": "#E5ECF6",
              "width": 0.5
             },
             "pattern": {
              "fillmode": "overlay",
              "size": 10,
              "solidity": 0.2
             }
            },
            "type": "bar"
           }
          ],
          "barpolar": [
           {
            "marker": {
             "line": {
              "color": "#E5ECF6",
              "width": 0.5
             },
             "pattern": {
              "fillmode": "overlay",
              "size": 10,
              "solidity": 0.2
             }
            },
            "type": "barpolar"
           }
          ],
          "carpet": [
           {
            "aaxis": {
             "endlinecolor": "#2a3f5f",
             "gridcolor": "white",
             "linecolor": "white",
             "minorgridcolor": "white",
             "startlinecolor": "#2a3f5f"
            },
            "baxis": {
             "endlinecolor": "#2a3f5f",
             "gridcolor": "white",
             "linecolor": "white",
             "minorgridcolor": "white",
             "startlinecolor": "#2a3f5f"
            },
            "type": "carpet"
           }
          ],
          "choropleth": [
           {
            "colorbar": {
             "outlinewidth": 0,
             "ticks": ""
            },
            "type": "choropleth"
           }
          ],
          "contour": [
           {
            "colorbar": {
             "outlinewidth": 0,
             "ticks": ""
            },
            "colorscale": [
             [
              0,
              "#0d0887"
             ],
             [
              0.1111111111111111,
              "#46039f"
             ],
             [
              0.2222222222222222,
              "#7201a8"
             ],
             [
              0.3333333333333333,
              "#9c179e"
             ],
             [
              0.4444444444444444,
              "#bd3786"
             ],
             [
              0.5555555555555556,
              "#d8576b"
             ],
             [
              0.6666666666666666,
              "#ed7953"
             ],
             [
              0.7777777777777778,
              "#fb9f3a"
             ],
             [
              0.8888888888888888,
              "#fdca26"
             ],
             [
              1,
              "#f0f921"
             ]
            ],
            "type": "contour"
           }
          ],
          "contourcarpet": [
           {
            "colorbar": {
             "outlinewidth": 0,
             "ticks": ""
            },
            "type": "contourcarpet"
           }
          ],
          "heatmap": [
           {
            "colorbar": {
             "outlinewidth": 0,
             "ticks": ""
            },
            "colorscale": [
             [
              0,
              "#0d0887"
             ],
             [
              0.1111111111111111,
              "#46039f"
             ],
             [
              0.2222222222222222,
              "#7201a8"
             ],
             [
              0.3333333333333333,
              "#9c179e"
             ],
             [
              0.4444444444444444,
              "#bd3786"
             ],
             [
              0.5555555555555556,
              "#d8576b"
             ],
             [
              0.6666666666666666,
              "#ed7953"
             ],
             [
              0.7777777777777778,
              "#fb9f3a"
             ],
             [
              0.8888888888888888,
              "#fdca26"
             ],
             [
              1,
              "#f0f921"
             ]
            ],
            "type": "heatmap"
           }
          ],
          "heatmapgl": [
           {
            "colorbar": {
             "outlinewidth": 0,
             "ticks": ""
            },
            "colorscale": [
             [
              0,
              "#0d0887"
             ],
             [
              0.1111111111111111,
              "#46039f"
             ],
             [
              0.2222222222222222,
              "#7201a8"
             ],
             [
              0.3333333333333333,
              "#9c179e"
             ],
             [
              0.4444444444444444,
              "#bd3786"
             ],
             [
              0.5555555555555556,
              "#d8576b"
             ],
             [
              0.6666666666666666,
              "#ed7953"
             ],
             [
              0.7777777777777778,
              "#fb9f3a"
             ],
             [
              0.8888888888888888,
              "#fdca26"
             ],
             [
              1,
              "#f0f921"
             ]
            ],
            "type": "heatmapgl"
           }
          ],
          "histogram": [
           {
            "marker": {
             "pattern": {
              "fillmode": "overlay",
              "size": 10,
              "solidity": 0.2
             }
            },
            "type": "histogram"
           }
          ],
          "histogram2d": [
           {
            "colorbar": {
             "outlinewidth": 0,
             "ticks": ""
            },
            "colorscale": [
             [
              0,
              "#0d0887"
             ],
             [
              0.1111111111111111,
              "#46039f"
             ],
             [
              0.2222222222222222,
              "#7201a8"
             ],
             [
              0.3333333333333333,
              "#9c179e"
             ],
             [
              0.4444444444444444,
              "#bd3786"
             ],
             [
              0.5555555555555556,
              "#d8576b"
             ],
             [
              0.6666666666666666,
              "#ed7953"
             ],
             [
              0.7777777777777778,
              "#fb9f3a"
             ],
             [
              0.8888888888888888,
              "#fdca26"
             ],
             [
              1,
              "#f0f921"
             ]
            ],
            "type": "histogram2d"
           }
          ],
          "histogram2dcontour": [
           {
            "colorbar": {
             "outlinewidth": 0,
             "ticks": ""
            },
            "colorscale": [
             [
              0,
              "#0d0887"
             ],
             [
              0.1111111111111111,
              "#46039f"
             ],
             [
              0.2222222222222222,
              "#7201a8"
             ],
             [
              0.3333333333333333,
              "#9c179e"
             ],
             [
              0.4444444444444444,
              "#bd3786"
             ],
             [
              0.5555555555555556,
              "#d8576b"
             ],
             [
              0.6666666666666666,
              "#ed7953"
             ],
             [
              0.7777777777777778,
              "#fb9f3a"
             ],
             [
              0.8888888888888888,
              "#fdca26"
             ],
             [
              1,
              "#f0f921"
             ]
            ],
            "type": "histogram2dcontour"
           }
          ],
          "mesh3d": [
           {
            "colorbar": {
             "outlinewidth": 0,
             "ticks": ""
            },
            "type": "mesh3d"
           }
          ],
          "parcoords": [
           {
            "line": {
             "colorbar": {
              "outlinewidth": 0,
              "ticks": ""
             }
            },
            "type": "parcoords"
           }
          ],
          "pie": [
           {
            "automargin": true,
            "type": "pie"
           }
          ],
          "scatter": [
           {
            "fillpattern": {
             "fillmode": "overlay",
             "size": 10,
             "solidity": 0.2
            },
            "type": "scatter"
           }
          ],
          "scatter3d": [
           {
            "line": {
             "colorbar": {
              "outlinewidth": 0,
              "ticks": ""
             }
            },
            "marker": {
             "colorbar": {
              "outlinewidth": 0,
              "ticks": ""
             }
            },
            "type": "scatter3d"
           }
          ],
          "scattercarpet": [
           {
            "marker": {
             "colorbar": {
              "outlinewidth": 0,
              "ticks": ""
             }
            },
            "type": "scattercarpet"
           }
          ],
          "scattergeo": [
           {
            "marker": {
             "colorbar": {
              "outlinewidth": 0,
              "ticks": ""
             }
            },
            "type": "scattergeo"
           }
          ],
          "scattergl": [
           {
            "marker": {
             "colorbar": {
              "outlinewidth": 0,
              "ticks": ""
             }
            },
            "type": "scattergl"
           }
          ],
          "scattermapbox": [
           {
            "marker": {
             "colorbar": {
              "outlinewidth": 0,
              "ticks": ""
             }
            },
            "type": "scattermapbox"
           }
          ],
          "scatterpolar": [
           {
            "marker": {
             "colorbar": {
              "outlinewidth": 0,
              "ticks": ""
             }
            },
            "type": "scatterpolar"
           }
          ],
          "scatterpolargl": [
           {
            "marker": {
             "colorbar": {
              "outlinewidth": 0,
              "ticks": ""
             }
            },
            "type": "scatterpolargl"
           }
          ],
          "scatterternary": [
           {
            "marker": {
             "colorbar": {
              "outlinewidth": 0,
              "ticks": ""
             }
            },
            "type": "scatterternary"
           }
          ],
          "surface": [
           {
            "colorbar": {
             "outlinewidth": 0,
             "ticks": ""
            },
            "colorscale": [
             [
              0,
              "#0d0887"
             ],
             [
              0.1111111111111111,
              "#46039f"
             ],
             [
              0.2222222222222222,
              "#7201a8"
             ],
             [
              0.3333333333333333,
              "#9c179e"
             ],
             [
              0.4444444444444444,
              "#bd3786"
             ],
             [
              0.5555555555555556,
              "#d8576b"
             ],
             [
              0.6666666666666666,
              "#ed7953"
             ],
             [
              0.7777777777777778,
              "#fb9f3a"
             ],
             [
              0.8888888888888888,
              "#fdca26"
             ],
             [
              1,
              "#f0f921"
             ]
            ],
            "type": "surface"
           }
          ],
          "table": [
           {
            "cells": {
             "fill": {
              "color": "#EBF0F8"
             },
             "line": {
              "color": "white"
             }
            },
            "header": {
             "fill": {
              "color": "#C8D4E3"
             },
             "line": {
              "color": "white"
             }
            },
            "type": "table"
           }
          ]
         },
         "layout": {
          "annotationdefaults": {
           "arrowcolor": "#2a3f5f",
           "arrowhead": 0,
           "arrowwidth": 1
          },
          "autotypenumbers": "strict",
          "coloraxis": {
           "colorbar": {
            "outlinewidth": 0,
            "ticks": ""
           }
          },
          "colorscale": {
           "diverging": [
            [
             0,
             "#8e0152"
            ],
            [
             0.1,
             "#c51b7d"
            ],
            [
             0.2,
             "#de77ae"
            ],
            [
             0.3,
             "#f1b6da"
            ],
            [
             0.4,
             "#fde0ef"
            ],
            [
             0.5,
             "#f7f7f7"
            ],
            [
             0.6,
             "#e6f5d0"
            ],
            [
             0.7,
             "#b8e186"
            ],
            [
             0.8,
             "#7fbc41"
            ],
            [
             0.9,
             "#4d9221"
            ],
            [
             1,
             "#276419"
            ]
           ],
           "sequential": [
            [
             0,
             "#0d0887"
            ],
            [
             0.1111111111111111,
             "#46039f"
            ],
            [
             0.2222222222222222,
             "#7201a8"
            ],
            [
             0.3333333333333333,
             "#9c179e"
            ],
            [
             0.4444444444444444,
             "#bd3786"
            ],
            [
             0.5555555555555556,
             "#d8576b"
            ],
            [
             0.6666666666666666,
             "#ed7953"
            ],
            [
             0.7777777777777778,
             "#fb9f3a"
            ],
            [
             0.8888888888888888,
             "#fdca26"
            ],
            [
             1,
             "#f0f921"
            ]
           ],
           "sequentialminus": [
            [
             0,
             "#0d0887"
            ],
            [
             0.1111111111111111,
             "#46039f"
            ],
            [
             0.2222222222222222,
             "#7201a8"
            ],
            [
             0.3333333333333333,
             "#9c179e"
            ],
            [
             0.4444444444444444,
             "#bd3786"
            ],
            [
             0.5555555555555556,
             "#d8576b"
            ],
            [
             0.6666666666666666,
             "#ed7953"
            ],
            [
             0.7777777777777778,
             "#fb9f3a"
            ],
            [
             0.8888888888888888,
             "#fdca26"
            ],
            [
             1,
             "#f0f921"
            ]
           ]
          },
          "colorway": [
           "#636efa",
           "#EF553B",
           "#00cc96",
           "#ab63fa",
           "#FFA15A",
           "#19d3f3",
           "#FF6692",
           "#B6E880",
           "#FF97FF",
           "#FECB52"
          ],
          "font": {
           "color": "#2a3f5f"
          },
          "geo": {
           "bgcolor": "white",
           "lakecolor": "white",
           "landcolor": "#E5ECF6",
           "showlakes": true,
           "showland": true,
           "subunitcolor": "white"
          },
          "hoverlabel": {
           "align": "left"
          },
          "hovermode": "closest",
          "mapbox": {
           "style": "light"
          },
          "paper_bgcolor": "white",
          "plot_bgcolor": "#E5ECF6",
          "polar": {
           "angularaxis": {
            "gridcolor": "white",
            "linecolor": "white",
            "ticks": ""
           },
           "bgcolor": "#E5ECF6",
           "radialaxis": {
            "gridcolor": "white",
            "linecolor": "white",
            "ticks": ""
           }
          },
          "scene": {
           "xaxis": {
            "backgroundcolor": "#E5ECF6",
            "gridcolor": "white",
            "gridwidth": 2,
            "linecolor": "white",
            "showbackground": true,
            "ticks": "",
            "zerolinecolor": "white"
           },
           "yaxis": {
            "backgroundcolor": "#E5ECF6",
            "gridcolor": "white",
            "gridwidth": 2,
            "linecolor": "white",
            "showbackground": true,
            "ticks": "",
            "zerolinecolor": "white"
           },
           "zaxis": {
            "backgroundcolor": "#E5ECF6",
            "gridcolor": "white",
            "gridwidth": 2,
            "linecolor": "white",
            "showbackground": true,
            "ticks": "",
            "zerolinecolor": "white"
           }
          },
          "shapedefaults": {
           "line": {
            "color": "#2a3f5f"
           }
          },
          "ternary": {
           "aaxis": {
            "gridcolor": "white",
            "linecolor": "white",
            "ticks": ""
           },
           "baxis": {
            "gridcolor": "white",
            "linecolor": "white",
            "ticks": ""
           },
           "bgcolor": "#E5ECF6",
           "caxis": {
            "gridcolor": "white",
            "linecolor": "white",
            "ticks": ""
           }
          },
          "title": {
           "x": 0.05
          },
          "xaxis": {
           "automargin": true,
           "gridcolor": "white",
           "linecolor": "white",
           "ticks": "",
           "title": {
            "standoff": 15
           },
           "zerolinecolor": "white",
           "zerolinewidth": 2
          },
          "yaxis": {
           "automargin": true,
           "gridcolor": "white",
           "linecolor": "white",
           "ticks": "",
           "title": {
            "standoff": 15
           },
           "zerolinecolor": "white",
           "zerolinewidth": 2
          }
         }
        }
       }
      }
     },
     "metadata": {},
     "output_type": "display_data"
    }
   ],
   "source": [
    "go.Figure(ima_surface)"
   ]
  }
 ],
 "metadata": {
  "kernelspec": {
   "display_name": "cdt",
   "language": "python",
   "name": "python3"
  },
  "language_info": {
   "codemirror_mode": {
    "name": "ipython",
    "version": 3
   },
   "file_extension": ".py",
   "mimetype": "text/x-python",
   "name": "python",
   "nbconvert_exporter": "python",
   "pygments_lexer": "ipython3",
   "version": "3.10.6"
  },
  "orig_nbformat": 4,
  "vscode": {
   "interpreter": {
    "hash": "bfd2e0f65efb746cc4a90a458a8d14b4cc7f8c5056a4d5d65e8f2a065e4206d5"
   }
  }
 },
 "nbformat": 4,
 "nbformat_minor": 2
}
